{
 "cells": [
  {
   "cell_type": "code",
   "execution_count": null,
   "id": "1177e419-4f20-4b63-a426-071e7a9cbfdc",
   "metadata": {},
   "outputs": [],
   "source": [
    "from bs4 import BeautifulSoup as bs"
   ]
  },
  {
   "cell_type": "code",
   "execution_count": null,
   "id": "ce41c62c-9868-4aa8-8492-80a76dcb97c5",
   "metadata": {},
   "outputs": [],
   "source": [
    "import requests"
   ]
  },
  {
   "cell_type": "code",
   "execution_count": null,
   "id": "84e8c5c8-313e-462b-8b1f-e11d16e8ff54",
   "metadata": {},
   "outputs": [],
   "source": [
    "import pandas as pd"
   ]
  },
  {
   "cell_type": "code",
   "execution_count": null,
   "id": "fab3d055-d2ba-4912-8fd8-adb68b05d0d8",
   "metadata": {},
   "outputs": [],
   "source": [
    "# GET - запрос\n",
    "url = 'https://www.kinonews.ru/top250imdb_p2/' # страница со всеми статьями \n",
    "page = requests.get(url)"
   ]
  },
  {
   "cell_type": "code",
   "execution_count": null,
   "id": "cfa98364-15bb-44ec-bf61-49d1ae81b800",
   "metadata": {},
   "outputs": [],
   "source": [
    "page.status_code"
   ]
  },
  {
   "cell_type": "code",
   "execution_count": null,
   "id": "88352756-ddb8-4516-8cc7-f2894ddc6eab",
   "metadata": {},
   "outputs": [],
   "source": [
    "soup = bs(page.text, 'html.parser')"
   ]
  },
  {
   "cell_type": "code",
   "execution_count": null,
   "id": "00f0feba-edf1-4429-9793-9f27283feea1",
   "metadata": {},
   "outputs": [],
   "source": [
    "page.text"
   ]
  },
  {
   "cell_type": "code",
   "execution_count": null,
   "id": "51faa87d-7a61-4d6c-8d64-f68bc9a56ce1",
   "metadata": {},
   "outputs": [],
   "source": [
    "soup"
   ]
  },
  {
   "cell_type": "code",
   "execution_count": null,
   "id": "99ed8842-9a3f-4a80-98d9-90ca7d4d079f",
   "metadata": {},
   "outputs": [],
   "source": [
    "result_list = {'title_russia': [], 'title_english':[], 'date': [], 'country':[], 'genre': [],'duration': [],'rating': [], 'description': []}"
   ]
  },
  {
   "cell_type": "code",
   "execution_count": null,
   "id": "2ceae82b-235e-4c87-a6df-d6ba19658c54",
   "metadata": {},
   "outputs": [],
   "source": [
    "pagenum = 1\n",
    "for i in range(5):\n",
    "    url = f'https://www.kinonews.ru/top250imdb_p{pagenum}/'\n",
    "    page = requests.get(url)\n",
    "    soup = bs(page.text, 'html.parser')\n",
    "    \n",
    "    titles = soup.find_all('a', class_='titlefilm')\n",
    "    \n",
    "    for i in titles: \n",
    "        # Переход на страницу статьи\n",
    "        url_film = 'https://www.kinonews.ru' + i.get('href') \n",
    "        page_film = requests.get(url_film)\n",
    "        soup_film = bs(page_film.text, 'html.parser')\n",
    "        \n",
    "        # Название фильма\n",
    "        name_film_rus = soup_film.find('h1', class_='film') \n",
    "        name_film_eng = soup_film.find('div', class_='entitle')\n",
    "        \n",
    "        # Дата выпуска фильма\n",
    "        release_date = soup_film.find('td', string=\"Год выпуска:\")\n",
    "        if release_date:\n",
    "            release_date = release_date.find_next_sibling('td').text.strip()\n",
    "        \n",
    "        # Страны выпуска фильма\n",
    "        meta_tags = soup_film.find_all('meta', {'itemprop': 'countryOfOrigin'})\n",
    "        if meta_tags:\n",
    "            countries = [tag['content'] for tag in meta_tags]\n",
    "            country = ', '.join(countries)\n",
    "        else:\n",
    "            country = 'N/A'  \n",
    "        # Жанр\n",
    "        genre_tags = soup_film.find_all('span', itemprop=\"genre\")\n",
    "        # Берем только первый жанр (если есть)\n",
    "        recommend_genre = genre_tags[0].text.strip() if genre_tags else 'N/A'\n",
    "            \n",
    "        # Длительность фильма        \n",
    "        duration_film = soup_film.find('td', string=\"Продолжительность:\")\n",
    "        duration = duration_film.find_next_sibling('td').text.strip() if duration_film else 'N/A'\n",
    "        \n",
    "        # Рейтинг\n",
    "        rating_film = soup_film.find('meta', itemprop=\"ratingValue\")\n",
    "        rating = rating_film.get('content')\n",
    "        \n",
    "        # Описание фильма\n",
    "        discription_film = soup_film.find('div', itemprop=\"description\") \n",
    "        if discription_film:\n",
    "            discription_film = discription_film.text.strip()\n",
    "            \n",
    "            \n",
    "        if name_film_rus:\n",
    "            result_list['title_russia'].append(name_film_rus.text.strip())\n",
    "            result_list['title_english'].append(name_film_eng.text.strip() if name_film_eng else 'N/A')\n",
    "            result_list['date'].append(release_date)\n",
    "            result_list['country'].append(country)\n",
    "            result_list['genre'].append(recommend_genre)\n",
    "            result_list['duration'].append(duration)\n",
    "            result_list['rating'].append(rating)\n",
    "            result_list['description'].append(discription_film)\n",
    "            \n",
    "    pagenum += 1"
   ]
  },
  {
   "cell_type": "code",
   "execution_count": null,
   "id": "34522871-9025-4084-aea3-e839507bfb98",
   "metadata": {},
   "outputs": [],
   "source": [
    "result_list"
   ]
  },
  {
   "cell_type": "code",
   "execution_count": null,
   "id": "bd7b82fb-3d3b-4ee4-bda5-75e5e3b8458c",
   "metadata": {},
   "outputs": [],
   "source": [
    "print(\"Количество нулевых значений в: \")\n",
    "for i in result_list:\n",
    "    print( i + \" - \" + str(result_list[i].count(None)))"
   ]
  },
  {
   "cell_type": "code",
   "execution_count": null,
   "id": "0944b0ca-dfd9-44a8-b819-096c5bc7af97",
   "metadata": {},
   "outputs": [],
   "source": [
    "file_name = 'film.csv'\n",
    "df = pd.DataFrame(data=result_list)\n",
    "df.to_csv(file_name)"
   ]
  },
  {
   "cell_type": "code",
   "execution_count": null,
   "id": "23438d7d-f89a-49dc-b8ed-06f8ecadebbb",
   "metadata": {},
   "outputs": [],
   "source": [
    "df.head(10)"
   ]
  },
  {
   "cell_type": "code",
   "execution_count": null,
   "id": "28ec7ffc-edb8-4718-a8c2-653c24cc9691",
   "metadata": {},
   "outputs": [],
   "source": [
    "df.info()"
   ]
  },
  {
   "cell_type": "code",
   "execution_count": null,
   "id": "98b44454-38b7-4353-842e-fa18dcfddddf",
   "metadata": {},
   "outputs": [],
   "source": [
    "df.shape"
   ]
  },
  {
   "cell_type": "code",
   "execution_count": null,
   "id": "95b2c365-d5a1-4625-87d9-1dbeec520399",
   "metadata": {},
   "outputs": [],
   "source": [
    "pip install gensim"
   ]
  },
  {
   "cell_type": "code",
   "execution_count": null,
   "id": "c8b6b7d4-8f55-49c2-a272-bdf5e268a1f2",
   "metadata": {},
   "outputs": [],
   "source": [
    "pip install pymorphy3"
   ]
  },
  {
   "cell_type": "code",
   "execution_count": null,
   "id": "e01897b2-8c42-4a6c-a800-62444ac3ce6f",
   "metadata": {},
   "outputs": [],
   "source": [
    "import pandas as pd\n",
    "from sklearn.feature_extraction.text import CountVectorizer\n",
    "from sklearn.feature_extraction.text import TfidfVectorizer\n",
    "from nltk.corpus import stopwords\n",
    "from nltk.tokenize import word_tokenize\n",
    "import string\n",
    "\n",
    "import re\n",
    "import nltk\n",
    "import pymorphy3\n",
    "\n",
    "from nltk.stem.snowball import SnowballStemmer"
   ]
  },
  {
   "cell_type": "code",
   "execution_count": null,
   "id": "60fbacda-eb0b-49fe-82e3-6e8b093d0288",
   "metadata": {},
   "outputs": [],
   "source": [
    "df = pd.read_csv('film.csv')"
   ]
  },
  {
   "cell_type": "code",
   "execution_count": null,
   "id": "fa4f33b1-0678-4d86-8e65-64984e54293f",
   "metadata": {},
   "outputs": [],
   "source": [
    "df.head()"
   ]
  },
  {
   "cell_type": "code",
   "execution_count": null,
   "id": "934c04b7-cbbf-42e2-adb8-1ff8a5b3cd8c",
   "metadata": {},
   "outputs": [],
   "source": [
    "df = df.drop('Unnamed: 0', axis=1)"
   ]
  },
  {
   "cell_type": "code",
   "execution_count": null,
   "id": "f492aea5-32c2-48b1-a9c6-0736d71c9470",
   "metadata": {},
   "outputs": [],
   "source": [
    "df.head(7)"
   ]
  },
  {
   "cell_type": "code",
   "execution_count": null,
   "id": "7f187bb1-ac45-46f0-90aa-de47c1976abb",
   "metadata": {},
   "outputs": [],
   "source": [
    "df.info()"
   ]
  },
  {
   "cell_type": "code",
   "execution_count": null,
   "id": "3a7630f6-20ec-4659-9312-9c037807bcb3",
   "metadata": {},
   "outputs": [],
   "source": [
    "df['description'][0]"
   ]
  },
  {
   "cell_type": "code",
   "execution_count": null,
   "id": "176aaaba-c151-4311-a3cc-ae3eab04f4e2",
   "metadata": {},
   "outputs": [],
   "source": [
    "st = '\\xa0'\n",
    "def remove_othersymbol(text):\n",
    "    return ''.join([ch if ch not in st else ' ' for ch in text])"
   ]
  },
  {
   "cell_type": "code",
   "execution_count": null,
   "id": "3897ad64-0f09-4c10-a7ef-9cb2740430e8",
   "metadata": {},
   "outputs": [],
   "source": [
    "string.punctuation"
   ]
  },
  {
   "cell_type": "code",
   "execution_count": null,
   "id": "816907e0-fdd5-48a9-881f-63f2225f5fb2",
   "metadata": {},
   "outputs": [],
   "source": [
    "def remove_punctuation(text):\n",
    "    return ''.join([ch for ch in text if ch not in string.punctuation])"
   ]
  },
  {
   "cell_type": "code",
   "execution_count": null,
   "id": "3f03afc9-ef69-4113-91b9-50f24547537a",
   "metadata": {},
   "outputs": [],
   "source": [
    "df['prep_text']= [remove_othersymbol(text.lower()) for text in df['description']]"
   ]
  },
  {
   "cell_type": "code",
   "execution_count": null,
   "id": "61f2595e-0e29-46e2-aca4-5367ff5fa519",
   "metadata": {},
   "outputs": [],
   "source": [
    "df['prep_text'][0]"
   ]
  },
  {
   "cell_type": "code",
   "execution_count": null,
   "id": "9b67ff22-f4e3-44a0-b9c0-dc10c7e9c8b1",
   "metadata": {},
   "outputs": [],
   "source": [
    "def remove_punctuation(text):\n",
    "    return ''.join([ch for ch in text if ch not in string.punctuation])"
   ]
  },
  {
   "cell_type": "code",
   "execution_count": null,
   "id": "a01787b5-f82b-4402-af4c-d2fce2462f21",
   "metadata": {},
   "outputs": [],
   "source": [
    "df['prep_text']= [remove_punctuation(text) for text in df['prep_text']]"
   ]
  },
  {
   "cell_type": "code",
   "execution_count": null,
   "id": "8bd06f57-8972-47a5-820c-5c767d62229a",
   "metadata": {},
   "outputs": [],
   "source": [
    "df['prep_text'][0]"
   ]
  },
  {
   "cell_type": "code",
   "execution_count": null,
   "id": "b4e3a57b-d0b8-4df5-96e7-5e95e19ffe9e",
   "metadata": {},
   "outputs": [],
   "source": [
    "df.head()"
   ]
  },
  {
   "cell_type": "code",
   "execution_count": null,
   "id": "edcdc827-69dd-47a7-b85a-620106e8deb9",
   "metadata": {},
   "outputs": [],
   "source": [
    "russian_stopwords = stopwords.words(\"russian\") \n",
    "print(russian_stopwords)"
   ]
  },
  {
   "cell_type": "code",
   "execution_count": null,
   "id": "1dc8442c-4d68-4b94-aa12-6505eb3ded8b",
   "metadata": {},
   "outputs": [],
   "source": [
    "import nltk\n",
    "nltk.download('punkt_tab')"
   ]
  },
  {
   "cell_type": "code",
   "execution_count": null,
   "id": "f4e83d8f-052e-4df6-a624-7284cf7913ee",
   "metadata": {},
   "outputs": [],
   "source": [
    "morph = pymorphy3.MorphAnalyzer(lang='ru')"
   ]
  },
  {
   "cell_type": "code",
   "execution_count": null,
   "id": "134130d2-4237-44fc-b16e-8d902d7a2821",
   "metadata": {},
   "outputs": [],
   "source": [
    "%%time\n",
    "lemm_texts_list = []\n",
    "for text in (df['prep_text']):\n",
    "    try:\n",
    "        tokens = word_tokenize(text)\n",
    "        res = list()\n",
    "        for word in tokens:\n",
    "            p = morph.parse(word)[0]\n",
    "            res.append(p.normal_form)\n",
    "        text = \" \".join(res)\n",
    "        lemm_texts_list.append(text)\n",
    "    except Exception as e:\n",
    "        print(e)\n",
    "    \n",
    "df['text_lemm'] = lemm_texts_list"
   ]
  },
  {
   "cell_type": "code",
   "execution_count": null,
   "id": "ed5cfb39-1035-494b-9688-be961e8d074f",
   "metadata": {},
   "outputs": [],
   "source": [
    "df.head()"
   ]
  },
  {
   "cell_type": "code",
   "execution_count": null,
   "id": "30fd94e0-4e0a-471b-acf3-7b6a67b4bb17",
   "metadata": {},
   "outputs": [],
   "source": [
    "def tokenize(text):\n",
    "    t = word_tokenize(text)\n",
    "    tokens = [token for token in t if token not in russian_stopwords]\n",
    "    text = \" \".join(tokens)\n",
    "    return text"
   ]
  },
  {
   "cell_type": "code",
   "execution_count": null,
   "id": "906383af-904a-4600-a40a-a0c6928a4207",
   "metadata": {},
   "outputs": [],
   "source": [
    "df['tokenize_text'] = [tokenize(text) for text in df['text_lemm']]"
   ]
  },
  {
   "cell_type": "code",
   "execution_count": null,
   "id": "c2fb713d-738b-4c24-a756-bc520cb39f59",
   "metadata": {},
   "outputs": [],
   "source": [
    "df.head()"
   ]
  },
  {
   "cell_type": "code",
   "execution_count": null,
   "id": "bf822303-15e6-4cf9-aa86-25e2c5d70d44",
   "metadata": {},
   "outputs": [],
   "source": [
    "pip install WordCloud"
   ]
  },
  {
   "cell_type": "code",
   "execution_count": null,
   "id": "cefdcb2f-3537-4466-8de0-841fd806e11a",
   "metadata": {},
   "outputs": [],
   "source": [
    "from wordcloud import WordCloud, STOPWORDS\n",
    "import matplotlib.pyplot as plt\n",
    "%matplotlib inline"
   ]
  },
  {
   "cell_type": "code",
   "execution_count": null,
   "id": "852577aa-5683-4f22-8c10-393c6df88a3c",
   "metadata": {},
   "outputs": [],
   "source": [
    "def str_corpus(corpus):\n",
    "    str_corpus = ''\n",
    "    for i in corpus:\n",
    "        str_corpus += ' ' + i\n",
    "    str_corpus = str_corpus.strip()\n",
    "    return str_corpus\n",
    "\n",
    "def get_corpus(data):\n",
    "    corpus = []\n",
    "    for phrase in data:\n",
    "        for word in phrase.split():\n",
    "            corpus.append(word)\n",
    "    return corpus\n",
    "\n",
    "def get_wordCloud(corpus):\n",
    "    wordCloud = WordCloud(background_color='white',\n",
    "                              stopwords=STOPWORDS,\n",
    "                              width=3000,\n",
    "                              height=2500,\n",
    "                              max_words=200,\n",
    "                              random_state=42\n",
    "                         ).generate(str_corpus(corpus))\n",
    "    return wordCloud"
   ]
  },
  {
   "cell_type": "code",
   "execution_count": null,
   "id": "d3048410-0eed-4675-aff8-b6785a70fbcc",
   "metadata": {},
   "outputs": [],
   "source": [
    "corpus = get_corpus(df['tokenize_text'].values)\n",
    "procWordCloud = get_wordCloud(corpus)\n",
    "\n",
    "fig = plt.figure(figsize=(20, 8))\n",
    "plt.subplot(1, 2, 1)\n",
    "plt.imshow(procWordCloud)\n",
    "plt.axis('off')\n",
    "plt.subplot(1, 2, 1)\n",
    "plt.show()"
   ]
  },
  {
   "cell_type": "code",
   "execution_count": null,
   "id": "636b0a3c-46a3-418f-812f-3fd22cda2ced",
   "metadata": {},
   "outputs": [],
   "source": [
    "def get_wordCloud2(corpus):\n",
    "    wordCloud = WordCloud(background_color='white',\n",
    "                              stopwords=STOPWORDS,\n",
    "                              width=3000,\n",
    "                              height=2500,\n",
    "                              max_words=200,\n",
    "                              random_state=42\n",
    "                         ).generate(corpus)\n",
    "    return wordCloud"
   ]
  },
  {
   "cell_type": "code",
   "execution_count": null,
   "id": "9517940d-65b7-47f3-8237-d538976ba9ac",
   "metadata": {},
   "outputs": [],
   "source": [
    "corpus = df['tokenize_text'][20]\n",
    "procWordCloud = get_wordCloud2(corpus)\n",
    "\n",
    "fig = plt.figure(figsize=(20, 8))\n",
    "plt.subplot(1, 2, 1)\n",
    "plt.imshow(procWordCloud)\n",
    "plt.axis('off')\n",
    "plt.subplot(1, 2, 1)\n",
    "plt.show()"
   ]
  },
  {
   "cell_type": "code",
   "execution_count": null,
   "id": "52655acc-2841-4b16-82c8-198300fec106",
   "metadata": {},
   "outputs": [],
   "source": [
    "corpus = df['tokenize_text'][30]\n",
    "procWordCloud = get_wordCloud2(corpus)\n",
    "\n",
    "fig = plt.figure(figsize=(20, 8))\n",
    "plt.subplot(1, 2, 1)\n",
    "plt.imshow(procWordCloud)\n",
    "plt.axis('off')\n",
    "plt.subplot(1, 2, 1)\n",
    "plt.show()"
   ]
  },
  {
   "cell_type": "code",
   "execution_count": null,
   "id": "116bb277-4db2-49a1-8720-e3575a0a5012",
   "metadata": {},
   "outputs": [],
   "source": [
    "corpus = df['tokenize_text'][40]\n",
    "procWordCloud = get_wordCloud2(corpus)\n",
    "\n",
    "fig = plt.figure(figsize=(20, 8))\n",
    "plt.subplot(1, 2, 1)\n",
    "plt.imshow(procWordCloud)\n",
    "plt.axis('off')\n",
    "plt.subplot(1, 2, 1)\n",
    "plt.show()"
   ]
  },
  {
   "cell_type": "code",
   "execution_count": null,
   "id": "ff31ce65-5445-475b-b845-4498d2b759f5",
   "metadata": {},
   "outputs": [],
   "source": [
    "vectorizer = CountVectorizer()\n",
    "count_matrix1 = vectorizer.fit(df['tokenize_text'])"
   ]
  },
  {
   "cell_type": "code",
   "execution_count": null,
   "id": "1790f3f8-efe4-4384-b3a6-3ccc27b0ad3a",
   "metadata": {},
   "outputs": [],
   "source": [
    "len(vectorizer.vocabulary_)"
   ]
  },
  {
   "cell_type": "code",
   "execution_count": null,
   "id": "dee652d5-0508-4d90-9c7e-da39d9ca68d9",
   "metadata": {},
   "outputs": [],
   "source": [
    "print(vectorizer.vocabulary_)"
   ]
  },
  {
   "cell_type": "code",
   "execution_count": null,
   "id": "a12deb5c-9ec2-4061-8189-c5902ce250c5",
   "metadata": {},
   "outputs": [],
   "source": [
    "russian_stopwords = list(russian_stopwords)"
   ]
  },
  {
   "cell_type": "code",
   "execution_count": null,
   "id": "935f1ead-423a-4396-96e0-94d5abd0daf1",
   "metadata": {},
   "outputs": [],
   "source": [
    "vectorizer = CountVectorizer(analyzer='word', stop_words=russian_stopwords, ngram_range=(1, 3), min_df=2)\n",
    "count_matrix = vectorizer.fit_transform(df['tokenize_text'])"
   ]
  },
  {
   "cell_type": "code",
   "execution_count": null,
   "id": "53638e59-4a4c-4e7c-be3d-f82d51846291",
   "metadata": {},
   "outputs": [],
   "source": [
    "count_matrix.shape"
   ]
  },
  {
   "cell_type": "code",
   "execution_count": null,
   "id": "481601e4-2112-4f3a-b18a-ad379aff97d1",
   "metadata": {},
   "outputs": [],
   "source": [
    "print(count_matrix)"
   ]
  },
  {
   "cell_type": "code",
   "execution_count": null,
   "id": "d7c591c5-9a68-4814-8130-d58f7ebde370",
   "metadata": {},
   "outputs": [],
   "source": [
    "vectorizer.get_feature_names_out()[100:200]"
   ]
  },
  {
   "cell_type": "code",
   "execution_count": null,
   "id": "64d989d3-97a2-4037-bfb3-8af5158cbf15",
   "metadata": {},
   "outputs": [],
   "source": [
    "tfidf_vectorizer = TfidfVectorizer(max_df=0.8, max_features=10000,\n",
    "                                 min_df=0.01, stop_words=russian_stopwords,\n",
    "                                 ngram_range=(1,3))"
   ]
  },
  {
   "cell_type": "code",
   "execution_count": null,
   "id": "941c13aa-9572-4264-a8b3-88484a5e3a03",
   "metadata": {},
   "outputs": [],
   "source": [
    "%%time\n",
    "tfidf_matrix = tfidf_vectorizer.fit_transform(df['tokenize_text'])"
   ]
  },
  {
   "cell_type": "code",
   "execution_count": null,
   "id": "8e33954f-1ef7-49e5-9f14-4507ebc9e741",
   "metadata": {},
   "outputs": [],
   "source": [
    "tfidf_matrix.shape"
   ]
  },
  {
   "cell_type": "code",
   "execution_count": null,
   "id": "fafd3d87-7d2d-44c6-a6db-4c2103895221",
   "metadata": {},
   "outputs": [],
   "source": [
    "print(tfidf_matrix)"
   ]
  },
  {
   "cell_type": "code",
   "execution_count": null,
   "id": "f4acc70a-e7f6-4a6a-944d-432ca064053c",
   "metadata": {},
   "outputs": [],
   "source": [
    "tfidf_vectorizer.get_feature_names_out()[150:160]"
   ]
  },
  {
   "cell_type": "code",
   "execution_count": null,
   "id": "b86d20bf-d37c-4b7d-a6d4-6cad545f29ca",
   "metadata": {},
   "outputs": [],
   "source": [
    "import gensim"
   ]
  },
  {
   "cell_type": "code",
   "execution_count": null,
   "id": "9f455554-5ea4-41fe-b4a7-e19086347e06",
   "metadata": {},
   "outputs": [],
   "source": [
    "def tokenize2(text):\n",
    "    t = word_tokenize(text)\n",
    "    tokens = [token for token in t if token not in russian_stopwords]\n",
    "    return tokens"
   ]
  },
  {
   "cell_type": "code",
   "execution_count": null,
   "id": "1ed5cefb-ab76-4291-a9fd-b2ceafb8eda2",
   "metadata": {},
   "outputs": [],
   "source": [
    "df['tokenize_text2'] = [tokenize2(text) for text in df['tokenize_text']]"
   ]
  },
  {
   "cell_type": "code",
   "execution_count": null,
   "id": "6e3ce348-0639-4bf0-a5ff-abec676637e2",
   "metadata": {},
   "outputs": [],
   "source": [
    "df.head()"
   ]
  },
  {
   "cell_type": "code",
   "execution_count": null,
   "id": "7cc3ee7e-e487-4801-8b53-ad78ea4572c8",
   "metadata": {},
   "outputs": [],
   "source": [
    "gensim_dictionary = gensim.corpora.Dictionary(df['tokenize_text2'])\n",
    "gensim_dictionary.filter_extremes(no_above=0.1, no_below=5)\n",
    "gensim_dictionary.compactify()"
   ]
  },
  {
   "cell_type": "code",
   "execution_count": null,
   "id": "38ebfed7-9f8c-4500-904b-edfa5346582f",
   "metadata": {},
   "outputs": [],
   "source": [
    "corpus = [gensim_dictionary.doc2bow(text) \n",
    "          for text in df['tokenize_text2']]"
   ]
  },
  {
   "cell_type": "code",
   "execution_count": null,
   "id": "3c6805e4-9d6a-4050-93b8-b8b486a19c06",
   "metadata": {},
   "outputs": [],
   "source": [
    "corpus"
   ]
  },
  {
   "cell_type": "code",
   "execution_count": null,
   "id": "8f6c745b-3e4d-40a3-b7b5-0cc02f24f009",
   "metadata": {},
   "outputs": [],
   "source": [
    "lda_20 = gensim.models.LdaMulticore(corpus, \n",
    "                                 num_topics=10, \n",
    "                                 id2word=gensim_dictionary, \n",
    "                                 passes=10, random_state=6457)"
   ]
  },
  {
   "cell_type": "code",
   "execution_count": null,
   "id": "608bdd83-6947-4ab4-8e63-c4d3af195374",
   "metadata": {},
   "outputs": [],
   "source": [
    "lda_20.print_topics()"
   ]
  },
  {
   "cell_type": "code",
   "execution_count": null,
   "id": "2a6b5791-b5eb-4cd5-8f92-cb242c39c6cc",
   "metadata": {},
   "outputs": [],
   "source": [
    "import pyLDAvis.gensim_models as gensimvis\n",
    "import pyLDAvis\n",
    "\n",
    "vis_data = gensimvis.prepare(lda_20, corpus, gensim_dictionary)\n",
    "pyLDAvis.display(vis_data)"
   ]
  },
  {
   "cell_type": "code",
   "execution_count": null,
   "id": "855832df-8388-44d4-a648-ad2f9005c308",
   "metadata": {},
   "outputs": [],
   "source": [
    "pip install pyLDAvis"
   ]
  },
  {
   "cell_type": "code",
   "execution_count": null,
   "id": "86056b07-f399-44ad-926f-3ed7cd01102c",
   "metadata": {},
   "outputs": [],
   "source": [
    "from gensim.models import CoherenceModel\n",
    "coherence_model_lda = CoherenceModel(model=lda_20,\n",
    "                                     texts=df[\"tokenize_text2\"],\n",
    "                                     dictionary=gensim_dictionary,\n",
    "                                     coherence=\"c_v\")\n",
    "coherence_lda = coherence_model_lda.get_coherence()\n",
    "\n",
    "print(\"\\nCoherence Score: \", coherence_lda)"
   ]
  },
  {
   "cell_type": "code",
   "execution_count": null,
   "id": "9eaef758-8b43-4b49-a868-5ff2be9cf379",
   "metadata": {},
   "outputs": [],
   "source": [
    "coherence_values = []\n",
    "for num_topics in range(10, 30, 5):\n",
    "    lda_model = gensim.models.LdaMulticore(corpus=corpus,\n",
    "                             num_topics=num_topics,\n",
    "                             id2word=gensim_dictionary,\n",
    "                             passes=10,\n",
    "                             random_state=6457)\n",
    "    \n",
    "    coherence_model = CoherenceModel(model=lda_model,\n",
    "                                     texts=df[\"tokenize_text2\"],\n",
    "                                     dictionary=gensim_dictionary,\n",
    "                                     coherence=\"c_v\")\n",
    "    \n",
    "    coherence_values.append(coherence_model.get_coherence())\n",
    "\n",
    "import matplotlib.pyplot as plt\n",
    "\n",
    "plt.plot(range(10, 30, 5), coherence_values, marker='o')\n",
    "plt.xlabel(\"Количество тем\")\n",
    "plt.ylabel(\"Когерентность\")\n",
    "plt.title(\"Зависимость когерентности от количества тем\")\n",
    "plt.show()"
   ]
  },
  {
   "cell_type": "code",
   "execution_count": null,
   "id": "d0bce7c0-b647-4991-a138-2ee4de6b1f5d",
   "metadata": {},
   "outputs": [],
   "source": [
    "import pyLDAvis.gensim_models as gensimvis\n",
    "import pyLDAvis"
   ]
  },
  {
   "cell_type": "code",
   "execution_count": null,
   "id": "6d1a6351-a970-4768-b0fb-6ba35393555d",
   "metadata": {},
   "outputs": [],
   "source": [
    "vis_20 = gensimvis.prepare(lda_20, corpus, gensim_dictionary)"
   ]
  },
  {
   "cell_type": "code",
   "execution_count": null,
   "id": "2424af94-3258-43e0-abc0-c6c3f1e249f8",
   "metadata": {},
   "outputs": [],
   "source": [
    "pyLDAvis.enable_notebook()"
   ]
  },
  {
   "cell_type": "code",
   "execution_count": null,
   "id": "3a14a24c-e1c6-454c-a7f8-2aa9b41b54ee",
   "metadata": {},
   "outputs": [],
   "source": [
    "vis_20"
   ]
  },
  {
   "cell_type": "code",
   "execution_count": null,
   "id": "b175f5f7-15c7-4d88-923a-cfbd4f1e0c77",
   "metadata": {},
   "outputs": [],
   "source": [
    "from sklearn.decomposition import LatentDirichletAllocation"
   ]
  },
  {
   "cell_type": "code",
   "execution_count": null,
   "id": "5b39f2bb-2c6f-42c5-8cf7-2bb06cf895c7",
   "metadata": {},
   "outputs": [],
   "source": [
    "lda_model = LatentDirichletAllocation(n_components=10, random_state=0)\n",
    "lda_model.fit(count_matrix)\n",
    "\n",
    "for i, topic in enumerate(lda_model.components_):\n",
    "    print(f\"Topic {i}: {', '.join([vectorizer.get_feature_names_out()[i] for i in topic.argsort()[:-11:-1]])}\")"
   ]
  },
  {
   "cell_type": "code",
   "execution_count": null,
   "id": "0ef12e45-fc95-4b6f-a1cf-e8a83c4814ad",
   "metadata": {},
   "outputs": [],
   "source": [
    "lda_model = LatentDirichletAllocation(learning_method='online', random_state=5, n_jobs=-1, n_components=11)\n",
    "lda_model.fit(count_matrix)"
   ]
  },
  {
   "cell_type": "code",
   "execution_count": null,
   "id": "80440add-5c37-4918-bede-59ec8e04f9a2",
   "metadata": {},
   "outputs": [],
   "source": [
    "topic_keywords = pd.DataFrame()\n",
    "for i,topic in enumerate(lda_model.components_):\n",
    "    topic_keywords[f'Topic {i + 1}'] = [vectorizer.get_feature_names_out()[i] for i in topic.argsort()[-50:]]\n",
    "topic_keywords"
   ]
  },
  {
   "cell_type": "code",
   "execution_count": null,
   "id": "b5221413-bf8c-40af-916f-cbd91c7e78af",
   "metadata": {},
   "outputs": [],
   "source": [
    "from sklearn.decomposition import NMF"
   ]
  },
  {
   "cell_type": "code",
   "execution_count": null,
   "id": "cae50c82-749f-4d09-b92a-8ccba3f65e78",
   "metadata": {},
   "outputs": [],
   "source": [
    "nmf_model = NMF(n_components=10, random_state=0)\n",
    "nmf_model.fit(tfidf_matrix)\n",
    "for i, topic in enumerate(nmf_model.components_):\n",
    "    print(f\"Topic {i}: {', '.join([tfidf_vectorizer.get_feature_names_out()[i] for i in topic.argsort()[:-11:-1]])}\")"
   ]
  },
  {
   "cell_type": "code",
   "execution_count": null,
   "id": "4770d58d-351e-4779-93e1-870b75f36662",
   "metadata": {},
   "outputs": [],
   "source": [
    "nmf_model = NMF(n_components=5, random_state=0)\n",
    "nmf_model.fit(tfidf_matrix)\n",
    "for i, topic in enumerate(nmf_model.components_):\n",
    "    print(f\"Topic {i}: {', '.join([tfidf_vectorizer.get_feature_names_out()[i] for i in topic.argsort()[:-11:-1]])}\")"
   ]
  },
  {
   "cell_type": "code",
   "execution_count": null,
   "id": "c7ef6fa5-6e4a-447b-bbcc-1804c8ba4522",
   "metadata": {},
   "outputs": [],
   "source": [
    "from sklearn.decomposition import TruncatedSVD"
   ]
  },
  {
   "cell_type": "code",
   "execution_count": null,
   "id": "c12fddde-230d-4f09-beda-460a8d129741",
   "metadata": {},
   "outputs": [],
   "source": [
    "from sklearn.decomposition import TruncatedSVD\n",
    "lsa_model = TruncatedSVD(n_components=10, random_state=0)\n",
    "lsa_model.fit(tfidf_matrix)\n",
    "\n",
    "for i, topic in enumerate(lsa_model.components_):\n",
    "    print(f\"Topic {i}: {', '.join([tfidf_vectorizer.get_feature_names_out()[i] for i in topic.argsort()[:-11:-1]])}\")"
   ]
  },
  {
   "cell_type": "code",
   "execution_count": null,
   "id": "97464f8c-5bb1-44ce-9867-f41701c61cf8",
   "metadata": {},
   "outputs": [],
   "source": [
    "lsa_model = TruncatedSVD(n_components=5, random_state=0)\n",
    "lsa_model.fit(tfidf_matrix)\n",
    "\n",
    "for i, topic in enumerate(lsa_model.components_):\n",
    "    print(f\"Topic {i}: {', '.join([tfidf_vectorizer.get_feature_names_out()[i] for i in topic.argsort()[:-11:-1]])}\")"
   ]
  },
  {
   "cell_type": "code",
   "execution_count": null,
   "id": "0c1d9a7b-8dd0-4e28-a21b-9ec59ca95a29",
   "metadata": {},
   "outputs": [],
   "source": [
    "df.head(25)"
   ]
  },
  {
   "cell_type": "code",
   "execution_count": null,
   "id": "23559d7c-bcaa-4c1e-8add-fe08a6494f3b",
   "metadata": {},
   "outputs": [],
   "source": [
    "df.info()"
   ]
  },
  {
   "cell_type": "code",
   "execution_count": null,
   "id": "e1f48470-2864-4799-a149-f7064a557434",
   "metadata": {},
   "outputs": [],
   "source": [
    "df['duration'].value_counts()"
   ]
  },
  {
   "cell_type": "code",
   "execution_count": null,
   "id": "04a8b84a-683e-4228-875e-d6ab1bd27bb1",
   "metadata": {},
   "outputs": [],
   "source": [
    "df['duration'] = df['duration'].str.replace(' мин.', '', regex=False)\n",
    "df['duration'] = pd.to_numeric(df['duration'], errors='coerce')\n",
    "mean_duration = df['duration'].mean()\n",
    "df['duration'] = df['duration'].fillna(mean_duration)\n",
    "print(df['duration'].value_counts(dropna=False))"
   ]
  },
  {
   "cell_type": "code",
   "execution_count": null,
   "id": "7629437b-e9f0-4e85-bff6-e66d5915b336",
   "metadata": {},
   "outputs": [],
   "source": [
    "df['date'].value_counts()"
   ]
  },
  {
   "cell_type": "code",
   "execution_count": null,
   "id": "a6ed0259-8c99-423d-8697-18f0dcc32866",
   "metadata": {},
   "outputs": [],
   "source": [
    "df['date'] = pd.to_numeric(df['date'], errors='coerce')\n",
    "df['date'].value_counts()"
   ]
  },
  {
   "cell_type": "code",
   "execution_count": null,
   "id": "af9077f7-5503-4979-b1f9-0d42bce58aa2",
   "metadata": {},
   "outputs": [],
   "source": [
    "df['rating'].value_counts()"
   ]
  },
  {
   "cell_type": "code",
   "execution_count": null,
   "id": "ccefc48f-c5c3-4a9b-885a-45e5fb9b99c2",
   "metadata": {},
   "outputs": [],
   "source": [
    "df['rating'] = pd.to_numeric(df['rating'], errors='coerce')\n",
    "mean_rating = df['rating'].mean()\n",
    "df['rating'] = df['rating'].fillna(mean_rating)\n",
    "df['rating'].value_counts()"
   ]
  },
  {
   "cell_type": "code",
   "execution_count": null,
   "id": "a4f95bbb-c03d-4ae8-8499-fb62c38ed6ed",
   "metadata": {},
   "outputs": [],
   "source": [
    "df['genre'].value_counts()"
   ]
  },
  {
   "cell_type": "code",
   "execution_count": null,
   "id": "42dd7085-41c2-4086-a253-23e6c323ff77",
   "metadata": {},
   "outputs": [],
   "source": [
    "from sklearn.cluster import KMeans"
   ]
  },
  {
   "cell_type": "code",
   "execution_count": null,
   "id": "47b7a490-6c9d-49a0-97b3-c46a2c5f1dda",
   "metadata": {},
   "outputs": [],
   "source": [
    "from sklearn.preprocessing import LabelEncoder\n",
    "label_encoder = LabelEncoder()\n",
    "df['genre_number'] = label_encoder.fit_transform(df['genre'])"
   ]
  },
  {
   "cell_type": "code",
   "execution_count": null,
   "id": "79b66364-309f-4b90-8e35-46dd4c4af16c",
   "metadata": {},
   "outputs": [],
   "source": [
    "df['genre_number'].value_counts()"
   ]
  },
  {
   "cell_type": "code",
   "execution_count": null,
   "id": "b59c0976-7fd0-457b-9f57-92db12f5c22c",
   "metadata": {},
   "outputs": [],
   "source": [
    "df['rating'] = df['rating'].astype(float)\n",
    "df['duration'] = df['duration'].astype(float)\n",
    "df['date'] = df['date'].astype(float)"
   ]
  },
  {
   "cell_type": "code",
   "execution_count": null,
   "id": "dcb27acb-96c4-4492-99e7-487c5d3dc1f0",
   "metadata": {},
   "outputs": [],
   "source": [
    "df.info()"
   ]
  },
  {
   "cell_type": "code",
   "execution_count": null,
   "id": "3a304deb-e995-4c85-b899-a147be2d6200",
   "metadata": {},
   "outputs": [],
   "source": [
    "from sklearn.preprocessing import MinMaxScaler"
   ]
  },
  {
   "cell_type": "code",
   "execution_count": null,
   "id": "11074c3f-90bd-42b7-88a1-0accb8111419",
   "metadata": {},
   "outputs": [],
   "source": [
    "X = df.loc[:, ['date', 'duration', 'rating', 'genre_number']].values"
   ]
  },
  {
   "cell_type": "code",
   "execution_count": null,
   "id": "75195819-65ac-49f4-b2fb-21ce59b9d73e",
   "metadata": {},
   "outputs": [],
   "source": [
    "scaler = MinMaxScaler()\n",
    "data_normalized = scaler.fit_transform(X)\n",
    "data_normalized = pd.DataFrame(data_normalized, columns=['date', 'duration', 'rating', 'genre_number'])\n",
    "\n",
    "print(\"\\nДанные после работы нормализации:\")\n",
    "print(data_normalized)"
   ]
  },
  {
   "cell_type": "code",
   "execution_count": null,
   "id": "84cc4a24-f83c-424e-9bb1-a093259f67a9",
   "metadata": {},
   "outputs": [],
   "source": [
    "print(df[['date', 'duration', 'rating', 'genre_number']].isnull().sum())\n",
    "print(df[['date', 'duration', 'rating', 'genre_number']].dtypes)"
   ]
  },
  {
   "cell_type": "code",
   "execution_count": null,
   "id": "ee458062-19e2-4e1b-baf6-979a84a2e1dd",
   "metadata": {},
   "outputs": [],
   "source": [
    "X = tfidf_matrix"
   ]
  },
  {
   "cell_type": "code",
   "execution_count": null,
   "id": "6c70e5e4-730e-4027-ab89-94087d18e8d4",
   "metadata": {},
   "outputs": [],
   "source": [
    "from sklearn.cluster import KMeans\n",
    "\n",
    "wcss = []\n",
    "for i in range(1, 10):\n",
    "    kmeans = KMeans(n_clusters = i, init = 'k-means++', random_state = 42)\n",
    "    kmeans.fit(X)\n",
    "    wcss.append(kmeans.inertia_)\n",
    "plt.plot(range(1, 10), wcss)\n",
    "plt.title('Выбор оптимального значения k')\n",
    "plt.xlabel('Количество кластеров')\n",
    "plt.ylabel('WCSS')\n",
    "plt.show()"
   ]
  },
  {
   "cell_type": "code",
   "execution_count": null,
   "id": "2a440a78-44b7-4ce4-aad8-2e788976dacd",
   "metadata": {},
   "outputs": [],
   "source": [
    "num_clusters = 7\n",
    "km = KMeans(n_clusters=num_clusters)"
   ]
  },
  {
   "cell_type": "code",
   "execution_count": null,
   "id": "d8deeab3-8859-4de6-a339-2b7d60f9378a",
   "metadata": {},
   "outputs": [],
   "source": [
    "%%time\n",
    "km.fit(X)"
   ]
  },
  {
   "cell_type": "code",
   "execution_count": null,
   "id": "ee84a7f8-52c0-487a-8da2-2eb2f95ee8b8",
   "metadata": {},
   "outputs": [],
   "source": [
    "pred=kmeans.fit_predict(X)\n",
    "clusters = km.labels_.tolist()"
   ]
  },
  {
   "cell_type": "code",
   "execution_count": null,
   "id": "4ecfb310-eef8-4ec0-842e-6ca73dbee8d3",
   "metadata": {},
   "outputs": [],
   "source": [
    "clusters[:10]"
   ]
  },
  {
   "cell_type": "code",
   "execution_count": null,
   "id": "e42f1c19-24c9-4c3a-ac24-2a0dd28f3a29",
   "metadata": {},
   "outputs": [],
   "source": [
    "cluster_kmeans = km.labels_.tolist()\n",
    "df['cluster'] = cluster_kmeans\n",
    "df['cluster'].value_counts()"
   ]
  },
  {
   "cell_type": "code",
   "execution_count": null,
   "id": "2ffc8d47-2f97-4d51-bcc3-13424192e519",
   "metadata": {},
   "outputs": [],
   "source": [
    "df[df['cluster']==0]"
   ]
  },
  {
   "cell_type": "code",
   "execution_count": null,
   "id": "2d9a1dfc-57c1-428b-8a33-d91b7915c7bb",
   "metadata": {},
   "outputs": [],
   "source": [
    "df[df['cluster']==1]"
   ]
  },
  {
   "cell_type": "code",
   "execution_count": null,
   "id": "a5173bc7-1dcf-446b-b4f5-cbcc187a31a3",
   "metadata": {},
   "outputs": [],
   "source": [
    "df[df['cluster']==2]"
   ]
  },
  {
   "cell_type": "code",
   "execution_count": null,
   "id": "2497659b-fff5-4f5c-af5e-3588570440ec",
   "metadata": {},
   "outputs": [],
   "source": [
    "df[df['cluster']==3]"
   ]
  },
  {
   "cell_type": "code",
   "execution_count": null,
   "id": "959effc5-8f37-4303-a261-c36ccf3338a7",
   "metadata": {},
   "outputs": [],
   "source": [
    "df[df['cluster']==4]"
   ]
  },
  {
   "cell_type": "code",
   "execution_count": null,
   "id": "d64faaea-b007-4884-ab39-f2711ea5c340",
   "metadata": {},
   "outputs": [],
   "source": [
    "df[df['cluster']==5]"
   ]
  },
  {
   "cell_type": "code",
   "execution_count": null,
   "id": "bb8d9395-2c47-4241-b7d0-077ea2c3b9c1",
   "metadata": {},
   "outputs": [],
   "source": [
    "df[df['cluster']==6]"
   ]
  },
  {
   "cell_type": "code",
   "execution_count": null,
   "id": "7e7b0bdf-93ce-4819-99d7-7d5f8f33af06",
   "metadata": {},
   "outputs": [],
   "source": [
    "top_rated_movies = (df[df['cluster'] == 0]\n",
    "                   .sort_values('rating', ascending=False)\n",
    "                   .head(5)[['title_russia', 'rating']])\n",
    "print(\"\\nТоп-5 фильмов с самым высоким рейтингом в кластере 0:\")\n",
    "print(top_rated_movies)\n",
    "print(\"\\n\")\n",
    "cluster_0_count = len(df[df['cluster'] == 0])\n",
    "print(f\"Количество фильмов в кластере 0: {cluster_0_count}\")"
   ]
  },
  {
   "cell_type": "code",
   "execution_count": null,
   "id": "701d71ac-f595-4343-be1a-78c9860d1cf3",
   "metadata": {},
   "outputs": [],
   "source": [
    "top_rated_movies = (df[df['cluster'] == 1]\n",
    "                   .sort_values('rating', ascending=False)\n",
    "                   .head(5)[['title_russia', 'rating']])\n",
    "print(\"\\nТоп-5 фильмов с самым высоким рейтингом в кластере 1:\")\n",
    "print(top_rated_movies)\n",
    "print(\"\\n\")\n",
    "cluster_1_count = len(df[df['cluster'] == 1])\n",
    "print(f\"Количество фильмов в кластере 1: {cluster_1_count}\")"
   ]
  },
  {
   "cell_type": "code",
   "execution_count": null,
   "id": "1bbe698d-f6fc-48f4-95ff-344699434cba",
   "metadata": {},
   "outputs": [],
   "source": [
    "top_rated_movies = (df[df['cluster'] == 2]\n",
    "                   .sort_values('rating', ascending=False)\n",
    "                   .head(5)[['title_russia', 'rating']])\n",
    "print(\"\\nТоп-5 фильмов с самым высоким рейтингом в кластере 2:\")\n",
    "print(top_rated_movies)\n",
    "print(\"\\n\")\n",
    "cluster_2_count = len(df[df['cluster'] == 2])\n",
    "print(f\"Количество фильмов в кластере 2: {cluster_2_count}\")"
   ]
  },
  {
   "cell_type": "code",
   "execution_count": null,
   "id": "ddae6883-d88c-4fe2-a8a4-b87e5bff5b97",
   "metadata": {},
   "outputs": [],
   "source": [
    "top_rated_movies = (df[df['cluster'] == 3]\n",
    "                   .sort_values('rating', ascending=False)\n",
    "                   .head(5)[['title_russia', 'rating']])\n",
    "print(\"\\nТоп-5 фильмов с самым высоким рейтингом в кластере 3:\")\n",
    "print(top_rated_movies)\n",
    "print(\"\\n\")\n",
    "cluster_3_count = len(df[df['cluster'] == 3])\n",
    "print(f\"Количество фильмов в кластере 3: {cluster_3_count}\")"
   ]
  },
  {
   "cell_type": "code",
   "execution_count": null,
   "id": "d13fdc99-b11a-4e3b-ba10-a34f994cfced",
   "metadata": {},
   "outputs": [],
   "source": [
    "top_rated_movies = (df[df['cluster'] == 4]\n",
    "                   .sort_values('rating', ascending=False)\n",
    "                   .head(5)[['title_russia', 'rating']])\n",
    "print(\"\\nТоп-5 фильмов с самым высоким рейтингом в кластере 4:\")\n",
    "print(top_rated_movies)\n",
    "print(\"\\n\")\n",
    "cluster_4_count = len(df[df['cluster'] == 4])\n",
    "print(f\"Количество фильмов в кластере 4: {cluster_4_count}\")"
   ]
  },
  {
   "cell_type": "code",
   "execution_count": null,
   "id": "40af0783-b988-4a19-a882-78be5ee54160",
   "metadata": {},
   "outputs": [],
   "source": [
    "top_rated_movies = (df[df['cluster'] == 5]\n",
    "                   .sort_values('rating', ascending=False)\n",
    "                   .head(5)[['title_russia', 'rating']])\n",
    "print(\"\\nТоп-5 фильмов с самым высоким рейтингом в кластере 5:\")\n",
    "print(top_rated_movies)\n",
    "print(\"\\n\")\n",
    "cluster_5_count = len(df[df['cluster'] == 5])\n",
    "print(f\"Количество фильмов в кластере 5: {cluster_5_count}\")"
   ]
  },
  {
   "cell_type": "code",
   "execution_count": null,
   "id": "42abe50d-630b-43a2-9423-ec58f9e54e61",
   "metadata": {},
   "outputs": [],
   "source": [
    "top_rated_movies = (df[df['cluster'] == 6]\n",
    "                   .sort_values('rating', ascending=False)\n",
    "                   .head(5)[['title_russia', 'rating']])\n",
    "print(\"\\nТоп-5 фильмов с самым высоким рейтингом в кластере 6:\")\n",
    "print(top_rated_movies)\n",
    "print(\"\\n\")\n",
    "cluster_6_count = len(df[df['cluster'] == 6])\n",
    "print(f\"Количество фильмов в кластере 6: {cluster_6_count}\")"
   ]
  },
  {
   "cell_type": "code",
   "execution_count": null,
   "id": "7b4c04b8-26e5-4ac7-a35d-ebb4ce92e986",
   "metadata": {},
   "outputs": [],
   "source": [
    "df['cluster'] = cluster_kmeans\n",
    "cluster_stats = df.groupby('cluster').agg({\n",
    "    'duration': ['mean', 'median', 'min', 'max'],\n",
    "    'date': ['mean', 'median', 'min', 'max'],\n",
    "    'rating': ['mean', 'median', 'min', 'max', 'count']\n",
    "}).round(2)\n",
    "\n",
    "print(cluster_stats)"
   ]
  },
  {
   "cell_type": "code",
   "execution_count": null,
   "id": "293ce22e-6dcb-441f-8565-5066eb07fca4",
   "metadata": {},
   "outputs": [],
   "source": [
    "def tokenize3(text):\n",
    "    t = word_tokenize(text)\n",
    "    tokens = [token for token in t if token not in russian_stopwords]\n",
    "    return tokens\n",
    "df.head()\n"
   ]
  },
  {
   "cell_type": "code",
   "execution_count": null,
   "id": "f19317b6-a7ba-488c-b1f8-46296d3a00c0",
   "metadata": {},
   "outputs": [],
   "source": [
    "n_clusters = 7\n",
    "n_top_words = 10\n",
    "\n",
    "for cluster_id in range(n_clusters):\n",
    "    cluster_texts = df[df['cluster'] == cluster_id]['title_russia']\n",
    "    \n",
    "    vectorizer = CountVectorizer(max_df=0.95, min_df=1, stop_words=russian_stopwords)\n",
    "    X = vectorizer.fit_transform(cluster_texts)\n",
    "    \n",
    "    lda = LatentDirichletAllocation(n_components=4, random_state=42)  \n",
    "    lda.fit(X)\n",
    "    \n",
    "    feature_names = vectorizer.get_feature_names_out()\n",
    "    print(f\"\\nКластер {cluster_id}:\")\n",
    "    for topic_idx, topic in enumerate(lda.components_):\n",
    "        top_words = [feature_names[i] for i in topic.argsort()[:-n_top_words - 1:-1]]\n",
    "        print(f\"Topic {topic_idx}: {', '.join(top_words)}\")"
   ]
  },
  {
   "cell_type": "code",
   "execution_count": null,
   "id": "340ad909-aa13-4388-be1e-0f259e16451e",
   "metadata": {},
   "outputs": [],
   "source": [
    "from sklearn.model_selection import train_test_split\n",
    "\n",
    "X_train, X_test, y_train, y_test = train_test_split(df['tokenize_text'], df['cluster'], \n",
    "                                                      test_size=0.3, \n",
    "                                                      random_state=0)"
   ]
  },
  {
   "cell_type": "code",
   "execution_count": null,
   "id": "4fe6908c-31dd-45a9-985e-2f9abea397a9",
   "metadata": {},
   "outputs": [],
   "source": [
    "len(X_train)"
   ]
  },
  {
   "cell_type": "code",
   "execution_count": null,
   "id": "a45a4252-4ea8-446d-bda5-de30047890fc",
   "metadata": {},
   "outputs": [],
   "source": [
    "len(X_test)"
   ]
  },
  {
   "cell_type": "code",
   "execution_count": null,
   "id": "5f62b8aa-2179-4cc7-b25b-f613c1cc64d2",
   "metadata": {},
   "outputs": [],
   "source": [
    "from sklearn.metrics import accuracy_score\n",
    "\n",
    "from sklearn.linear_model import LogisticRegression\n",
    "from sklearn.ensemble import RandomForestClassifier\n",
    "from sklearn.tree import DecisionTreeClassifier\n",
    "from sklearn.neighbors import KNeighborsClassifier\n",
    "from sklearn.metrics import classification_report"
   ]
  },
  {
   "cell_type": "code",
   "execution_count": null,
   "id": "b74257db-79f3-44f3-bc94-26e156f614d9",
   "metadata": {},
   "outputs": [],
   "source": [
    "vectorizer = TfidfVectorizer(max_features=10000, ngram_range=(1,3), stop_words=russian_stopwords)\n",
    "X_train_tfidf = vectorizer.fit_transform(X_train)\n",
    "X_test_tfidf = vectorizer.transform(X_test)"
   ]
  },
  {
   "cell_type": "code",
   "execution_count": null,
   "id": "70c5c35a-7364-457b-b118-75cbee170643",
   "metadata": {},
   "outputs": [],
   "source": [
    "from sklearn.metrics import classification_report"
   ]
  },
  {
   "cell_type": "code",
   "execution_count": null,
   "id": "5ff6bc8c-ee3d-458b-957c-f21c8b034058",
   "metadata": {},
   "outputs": [],
   "source": [
    "model_rf = RandomForestClassifier()\n",
    "model_rf.fit(X_train_tfidf, y_train)"
   ]
  },
  {
   "cell_type": "code",
   "execution_count": null,
   "id": "dbb7c7a7-e1ce-4bae-91c7-7c0701627ece",
   "metadata": {},
   "outputs": [],
   "source": [
    "y_pred = model_rf.predict(X_test_tfidf)"
   ]
  },
  {
   "cell_type": "code",
   "execution_count": null,
   "id": "f7d1bfb5-c29c-4ac2-ac87-e16722d3bda3",
   "metadata": {},
   "outputs": [],
   "source": [
    "print(classification_report(y_test, y_pred))"
   ]
  },
  {
   "cell_type": "code",
   "execution_count": null,
   "id": "6a9d3c83-fbc0-4fe4-8d17-a04faf5b34b2",
   "metadata": {},
   "outputs": [],
   "source": [
    "y_pred"
   ]
  },
  {
   "cell_type": "code",
   "execution_count": null,
   "id": "23a2ed4d-9b5e-440e-82c1-9c55407838f5",
   "metadata": {},
   "outputs": [],
   "source": [
    "model_knn = KNeighborsClassifier()\n",
    "model_knn.fit(X_train_tfidf, y_train)"
   ]
  },
  {
   "cell_type": "code",
   "execution_count": null,
   "id": "3677ab4e-523f-4a73-a3e5-c93c2aaa661f",
   "metadata": {},
   "outputs": [],
   "source": [
    "y_pred = model_knn.predict(X_test_tfidf)"
   ]
  },
  {
   "cell_type": "code",
   "execution_count": null,
   "id": "9981c7b7-22ee-47be-b635-5b86e4c746a7",
   "metadata": {},
   "outputs": [],
   "source": [
    "print(classification_report(y_test, y_pred))"
   ]
  },
  {
   "cell_type": "code",
   "execution_count": null,
   "id": "1e529286-26ac-447e-9c19-cbbefbb37b0e",
   "metadata": {},
   "outputs": [],
   "source": [
    "y_pred"
   ]
  },
  {
   "cell_type": "code",
   "execution_count": null,
   "id": "caf14451-9c37-4a6c-a59c-56f6e99683ac",
   "metadata": {},
   "outputs": [],
   "source": [
    "model_lr = LogisticRegression()\n",
    "model_lr.fit(X_train_tfidf, y_train)"
   ]
  },
  {
   "cell_type": "code",
   "execution_count": null,
   "id": "3f01e312-4df4-4f41-a1e6-ce864a879b67",
   "metadata": {},
   "outputs": [],
   "source": [
    "y_pred = model_lr.predict(X_test_tfidf)"
   ]
  },
  {
   "cell_type": "code",
   "execution_count": null,
   "id": "f08da3ad-b355-4c22-a009-a32b137bdb18",
   "metadata": {},
   "outputs": [],
   "source": [
    "print(classification_report(y_test, y_pred))"
   ]
  },
  {
   "cell_type": "code",
   "execution_count": null,
   "id": "80ef63f5-65d3-42a7-be5f-227fbede5d5a",
   "metadata": {},
   "outputs": [],
   "source": [
    "y_pred"
   ]
  },
  {
   "cell_type": "code",
   "execution_count": null,
   "id": "e1444907-bffb-4a1f-b31c-a10f44df72f5",
   "metadata": {},
   "outputs": [],
   "source": [
    "decision_tree_regressor = DecisionTreeClassifier()\n",
    "decision_tree_regressor.fit(X_train_tfidf, y_train)"
   ]
  },
  {
   "cell_type": "code",
   "execution_count": null,
   "id": "86613f4a-0a99-4a15-9db2-b42910895602",
   "metadata": {},
   "outputs": [],
   "source": [
    "y_pred = decision_tree_regressor.predict(X_test_tfidf)"
   ]
  },
  {
   "cell_type": "code",
   "execution_count": null,
   "id": "29ab334c-e565-43a5-873f-b55f4c47eb8d",
   "metadata": {},
   "outputs": [],
   "source": [
    "from sklearn.metrics import classification_report\n",
    "print(classification_report(y_test, y_pred))"
   ]
  },
  {
   "cell_type": "code",
   "execution_count": null,
   "id": "d08dde3b-286c-4000-b6d5-e00a50b8d822",
   "metadata": {},
   "outputs": [],
   "source": [
    "y_pred"
   ]
  },
  {
   "cell_type": "code",
   "execution_count": null,
   "id": "b7cf31e6-f780-428e-ae0b-9440667c25c4",
   "metadata": {},
   "outputs": [],
   "source": [
    "import pickle\n",
    "\n",
    "with open('model.pkl', 'wb') as f:\n",
    "    pickle.dump(model_knn, f)"
   ]
  },
  {
   "cell_type": "code",
   "execution_count": null,
   "id": "7703ef06-06a7-4800-989d-a44a333ab9ec",
   "metadata": {},
   "outputs": [],
   "source": [
    "with open('vectorizer.pkl', 'wb') as f:\n",
    "    pickle.dump(vectorizer, f)"
   ]
  },
  {
   "cell_type": "code",
   "execution_count": null,
   "id": "7bc4b8d8-9963-42fd-a778-d4ed93be52d7",
   "metadata": {},
   "outputs": [],
   "source": [
    "df.to_csv('film.csv')"
   ]
  },
  {
   "cell_type": "code",
   "execution_count": null,
   "id": "11432c86-1ff1-480f-9000-bb1c66e1587a",
   "metadata": {},
   "outputs": [],
   "source": []
  },
  {
   "cell_type": "code",
   "execution_count": null,
   "id": "0ee720ed-3895-4414-a6df-c17b8987f3cf",
   "metadata": {},
   "outputs": [],
   "source": []
  },
  {
   "cell_type": "code",
   "execution_count": null,
   "id": "56b016e6-e770-400c-870a-0738c1925c47",
   "metadata": {},
   "outputs": [],
   "source": []
  },
  {
   "cell_type": "code",
   "execution_count": null,
   "id": "24c50b70-b0a4-40bf-aa7d-f131b1e7ab7a",
   "metadata": {},
   "outputs": [],
   "source": []
  },
  {
   "cell_type": "code",
   "execution_count": null,
   "id": "ff4edb2d-ee22-4190-b0cc-1138f15b5318",
   "metadata": {},
   "outputs": [],
   "source": []
  },
  {
   "cell_type": "code",
   "execution_count": null,
   "id": "761df405-57a0-44e7-bcff-07efab66baa3",
   "metadata": {},
   "outputs": [],
   "source": []
  },
  {
   "cell_type": "code",
   "execution_count": null,
   "id": "744b253c-5e07-40c6-9e29-e73b62995987",
   "metadata": {},
   "outputs": [],
   "source": []
  },
  {
   "cell_type": "code",
   "execution_count": null,
   "id": "3601b67e-5708-41b7-af97-00f00f9b6ca9",
   "metadata": {},
   "outputs": [],
   "source": []
  },
  {
   "cell_type": "code",
   "execution_count": null,
   "id": "3da0f177-5fb8-463c-a95e-748a63dff7e4",
   "metadata": {},
   "outputs": [],
   "source": []
  },
  {
   "cell_type": "code",
   "execution_count": null,
   "id": "19eff687-2a40-46e1-b9cc-9f467f1e3054",
   "metadata": {},
   "outputs": [],
   "source": []
  },
  {
   "cell_type": "code",
   "execution_count": null,
   "id": "8aab8195-1409-48e0-bc94-ec66f5031460",
   "metadata": {},
   "outputs": [],
   "source": []
  },
  {
   "cell_type": "code",
   "execution_count": null,
   "id": "c196d3af-b30d-46c8-9518-37fbdecba01f",
   "metadata": {},
   "outputs": [],
   "source": []
  },
  {
   "cell_type": "code",
   "execution_count": null,
   "id": "812913c2-8054-4dc1-b75c-760b5c5c4729",
   "metadata": {},
   "outputs": [],
   "source": []
  },
  {
   "cell_type": "code",
   "execution_count": null,
   "id": "b95c28cf-2dd9-40d1-9204-2bddf930deb1",
   "metadata": {},
   "outputs": [],
   "source": []
  },
  {
   "cell_type": "code",
   "execution_count": null,
   "id": "93272ae3-f038-48c6-8c0f-2e4ebc37fdec",
   "metadata": {},
   "outputs": [],
   "source": []
  }
 ],
 "metadata": {
  "kernelspec": {
   "display_name": "Python 3 (ipykernel)",
   "language": "python",
   "name": "python3"
  },
  "language_info": {
   "codemirror_mode": {
    "name": "ipython",
    "version": 3
   },
   "file_extension": ".py",
   "mimetype": "text/x-python",
   "name": "python",
   "nbconvert_exporter": "python",
   "pygments_lexer": "ipython3",
   "version": "3.12.3"
  }
 },
 "nbformat": 4,
 "nbformat_minor": 5
}
